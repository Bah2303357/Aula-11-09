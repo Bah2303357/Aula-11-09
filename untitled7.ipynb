{
  "nbformat": 4,
  "nbformat_minor": 0,
  "metadata": {
    "colab": {
      "provenance": [],
      "include_colab_link": true
    },
    "kernelspec": {
      "name": "python3",
      "display_name": "Python 3"
    },
    "language_info": {
      "name": "python"
    }
  },
  "cells": [
    {
      "cell_type": "markdown",
      "metadata": {
        "id": "view-in-github",
        "colab_type": "text"
      },
      "source": [
        "<a href=\"https://colab.research.google.com/github/Bah2303357/Aula-11-09/blob/main/untitled7.ipynb\" target=\"_parent\"><img src=\"https://colab.research.google.com/assets/colab-badge.svg\" alt=\"Open In Colab\"/></a>"
      ]
    },
    {
      "cell_type": "markdown",
      "source": [
        "#Solicitar ao usuário que insira a largura do vão/cor/qdt de vidro/fechadura"
      ],
      "metadata": {
        "id": "ZUlLz55WgaIY"
      }
    },
    {
      "cell_type": "code",
      "execution_count": null,
      "metadata": {
        "colab": {
          "base_uri": "https://localhost:8080/"
        },
        "id": "NEKlK5kdgVNW",
        "outputId": "30d94ddb-1ac7-4dfc-ae71-3c5c0250c090"
      },
      "outputs": [
        {
          "output_type": "stream",
          "name": "stdout",
          "text": [
            "Digite a largura do vão em centimetro: 200\n",
            "\n",
            "=== Escolha a cor do Kit ===\n",
            "1. preto\n",
            "2. branco\n",
            "3. fosco\n",
            "4. champanhe\n",
            "5. bronze\n",
            "Digite a cor do kit evidence door: preto\n",
            "Digite a quantidade de vidro: 2\n",
            "\n",
            "=== Escolha modelo da fechadura ===\n",
            "1. lateral\n",
            "2. central\n",
            "Digite a possição da fechadura: lateral\n",
            "PERFIL EVIDENCE DOOR 8MM 200 / 2 vidro - preto\n"
          ]
        }
      ],
      "source": [
        "from ast import Index\n",
        "Largura = float(input(\"Digite a largura do vão em centimetro: \"))\n",
        "cores= [\"preto\",\"branco\",\"fosco\",\"champanhe\",\"bronze\"]\n",
        "numero_cor= [1,2,3,4,5]\n",
        "print(\"\\n=== Escolha a cor do Kit ===\")\n",
        "print(\"1. preto\")\n",
        "print(\"2. branco\")\n",
        "print(\"3. fosco\")\n",
        "print(\"4. champanhe\")\n",
        "print(\"5. bronze\")\n",
        "Cor = input(\"Digite a cor do kit evidence door: \")\n",
        "Cor.lower\n",
        "while Cor in cores or Cor in numero_cor:\n",
        " Vidro = float(input(\"Digite a quantidade de vidro: \"))\n",
        " fechadura= [\"lateral\",\"central\"]\n",
        " numero_cor= [1,2]\n",
        " print(\"\\n=== Escolha modelo da fechadura ===\")\n",
        " print(\"1. lateral\")\n",
        " print(\"2. central\")\n",
        " fechadura = input(\"Digite a possição da fechadura: \")\n",
        " fechadura.lower\n",
        " while fechadura in fechadura or fechadura in numero_fechadura:\n",
        "\n",
        "            # Determina o modelo do Kit com base nos dados solicitados.\n",
        "   if Largura <= 150 and Cor == \"preto\" and Vidro >= 2 and fechadura == \"lateral\":\n",
        "                print(\"PERFIL EVIDENCE DOOR 8MM 150 / 2 vidro - preto\")\n",
        "\n",
        "   elif Largura <= 150 and Cor == \"branco\" and Vidro >= 2 and fechadura == \"lateral\":\n",
        "                print(\"PERFIL EVIDENCE DOOR 8MM 150 / 2 vidro - branco\")\n",
        "\n",
        "   elif Largura <= 150 and Cor == \"fosco\" and Vidro >= 2 and fechadura == \"lateral\":\n",
        "                print(\"PERFIL EVIDENCE DOOR 8MM 150 / 2 vidro - fosco\")\n",
        "\n",
        "   elif Largura <= 150 and Cor == \"champanhe\" and Vidro >= 2 and fechadura == \"lateral\":\n",
        "                print(\"PERFIL EVIDENCE DOOR 8MM 150 / 2 vidro - champanhe\")\n",
        "\n",
        "   elif Largura <= 150 and Cor == \"bronze\" and Vidro >= 2 and fechadura == \"lateral\":\n",
        "                print(\"PERFIL EVIDENCE DOOR 8MM 150 / 2 vidro - bronze\")\n",
        "\n",
        "   elif Largura <= 200 and Cor == \"preto\" and Vidro >= 2 and fechadura == \"lateral\":\n",
        "                print(\"PERFIL EVIDENCE DOOR 8MM 200 / 2 vidro - preto\")\n",
        "\n",
        "   elif Largura <= 200 and Cor == \"branco\" and Vidro >= 2 and fechadura == \"lateral\":\n",
        "                print(\"PERFIL EVIDENCE DOOR 8MM 200 / 2 vidro - branco\")\n",
        "\n",
        "   elif Largura <= 200 and Cor == \"fosco\" and Vidro >= 2 and fechadura == \"lateral\":\n",
        "                print(\"PERFIL EVIDENCE DOOR 8MM 200 / 2 vidro - fosco\")\n",
        "\n",
        "   elif Largura <= 200 and Cor == \"champanhe\" and Vidro >= 2 and fechadura == \"lateral\":\n",
        "                print(\"PERFIL EVIDENCE DOOR 8MM 200 / 2 vidro - champanhe\")\n",
        "\n",
        "   elif Largura <= 200 and Cor == \"bronze\" and Vidro >= 2 and fechadura == \"lateral\":\n",
        "                print(\"PERFIL EVIDENCE DOOR 8MM2050 / 2 vidro - bronze\")\n",
        "   break"
      ]
    },
    {
      "cell_type": "code",
      "source": [
        "from ast import Index\n",
        "Largura = float(input(\"Digite a largura do vão em centimetro: \"))\n",
        "cores= [\"preto\",\"branco\",\"fosco\",\"champanhe\",\"bronze\"]\n",
        "numero_cor= [1,2,3,4,5]\n",
        "print(\"\\n=== Escolha a cor do Kit ===\")\n",
        "print(\"1. preto\")\n",
        "print(\"2. branco\")\n",
        "print(\"3. fosco\")\n",
        "print(\"4. champanhe\")\n",
        "print(\"5. bronze\")\n",
        "Cor = input(\"Digite a cor do kit evidence door: \")\n",
        "Cor.lower\n",
        "while Cor in cores or Cor in numero_cor:\n",
        "\n",
        "  Vidro = float(input(\"Digite a quantidade de vidro: \"))\n",
        "  fechadura = input(\"Digite a possição da fechadura: \")"
      ],
      "metadata": {
        "id": "ZZ_dzCrSqUmv"
      },
      "execution_count": null,
      "outputs": []
    }
  ]
}