{
  "nbformat": 4,
  "nbformat_minor": 0,
  "metadata": {
    "colab": {
      "provenance": [],
      "authorship_tag": "ABX9TyPY4QeOccOegrVbDZlNwJuK",
      "include_colab_link": true
    },
    "kernelspec": {
      "name": "python3",
      "display_name": "Python 3"
    },
    "language_info": {
      "name": "python"
    }
  },
  "cells": [
    {
      "cell_type": "markdown",
      "metadata": {
        "id": "view-in-github",
        "colab_type": "text"
      },
      "source": [
        "<a href=\"https://colab.research.google.com/github/Bah2303357/Aula-11-09/blob/main/Untitled7.ipynb\" target=\"_parent\"><img src=\"https://colab.research.google.com/assets/colab-badge.svg\" alt=\"Open In Colab\"/></a>"
      ]
    },
    {
      "cell_type": "markdown",
      "source": [
        "#Solicitar ao usuário que insira a largura do vão/cor/qdt de vidro/fechadura"
      ],
      "metadata": {
        "id": "ZUlLz55WgaIY"
      }
    },
    {
      "cell_type": "code",
      "execution_count": 33,
      "metadata": {
        "colab": {
          "base_uri": "https://localhost:8080/"
        },
        "id": "NEKlK5kdgVNW",
        "outputId": "b4f5f1da-7c6e-45b3-c792-e278f28d70cc"
      },
      "outputs": [
        {
          "output_type": "stream",
          "name": "stdout",
          "text": [
            "Digite a largura do vão em centimetro: 180\n",
            "Digite a cor do kit evidence door: branco\n",
            "Digite a quantidade de vidro: 2\n",
            "Digite a possição da fechadura: lateral\n",
            "PERFIL EVIDENCE DOOR 8MM 200 / 2M - branco\n"
          ]
        }
      ],
      "source": [
        "Largura = float(input(\"Digite a largura do vão em centimetro: \"))\n",
        "Cor = input(\"Digite a cor do kit evidence door: \")\n",
        "Vidro = float(input(\"Digite a quantidade de vidro: \"))\n",
        "fechadura = input(\"Digite a possição da fechadura: \")\n",
        "\n",
        "# Determina o modelo do Kit com base nos dados solicitados.\n",
        "if Largura <= 150 and Cor == \"preto\" and Vidro >= 2 and fechadura == \"lateral\":\n",
        "    print(\"PERFIL EVIDENCE DOOR 8MM 150 / 2M - preto\")\n",
        "elif Largura <= 150 and Cor == \"branco\" and Vidro >= 2 and fechadura == \"lateral\":\n",
        "    print(\"PERFIL EVIDENCE DOOR 8MM 150 / 2M - branco\")\n",
        "elif Largura <= 150 and Cor == \"fosco\" and Vidro >= 2 and fechadura == \"lateral\":\n",
        "    print(\"PERFIL EVIDENCE DOOR 8MM 150 / 2M - fosco\")\n",
        "elif Largura <= 150 and Cor == \"champanhe\" and Vidro >= 2 and fechadura == \"lateral\":\n",
        "    print(\"PERFIL EVIDENCE DOOR 8MM 150 / 2M - champanhe\")\n",
        "elif Largura <= 150 and Cor == \"bronze\" and Vidro >= 2 and fechadura == \"lateral\":\n",
        "    print(\"PERFIL EVIDENCE DOOR 8MM 150 / 2M - bronze\")\n",
        "elif Largura <= 200 and Cor == \"preto\" and Vidro >= 2 and fechadura == \"lateral\":\n",
        "    print(\"PERFIL EVIDENCE DOOR 8MM 200 / 2M - preto\")\n",
        "elif Largura <= 200 and Cor == \"branco\" and Vidro >= 2 and fechadura == \"lateral\":\n",
        "    print(\"PERFIL EVIDENCE DOOR 8MM 200 / 2M - branco\")\n",
        "elif Largura <= 200 and Cor == \"fosco\" and Vidro >= 2 and fechadura == \"lateral\":\n",
        "    print(\"PERFIL EVIDENCE DOOR 8MM 200 / 2M - fosco\")\n",
        "elif Largura <= 200 and Cor == \"champanhe\" and Vidro >= 2 and fechadura == \"lateral\":\n",
        "    print(\"PERFIL EVIDENCE DOOR 8MM 200 / 2M - champanhe\")\n",
        "elif Largura <= 200 and Cor == \"bronze\" and Vidro >= 2 and fechadura == \"lateral\":\n",
        "    print(\"PERFIL EVIDENCE DOOR 8MM2050 / 2M - bronze\")"
      ]
    }
  ]
}