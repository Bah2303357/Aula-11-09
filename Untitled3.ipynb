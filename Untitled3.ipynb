{
  "nbformat": 4,
  "nbformat_minor": 0,
  "metadata": {
    "colab": {
      "provenance": [],
      "authorship_tag": "ABX9TyOFLScNyE6YWd7KO4BdvQBl",
      "include_colab_link": true
    },
    "kernelspec": {
      "name": "python3",
      "display_name": "Python 3"
    },
    "language_info": {
      "name": "python"
    }
  },
  "cells": [
    {
      "cell_type": "markdown",
      "metadata": {
        "id": "view-in-github",
        "colab_type": "text"
      },
      "source": [
        "<a href=\"https://colab.research.google.com/github/Bah2303357/Aula-11-09/blob/main/Untitled3.ipynb\" target=\"_parent\"><img src=\"https://colab.research.google.com/assets/colab-badge.svg\" alt=\"Open In Colab\"/></a>"
      ]
    },
    {
      "cell_type": "markdown",
      "source": [
        "#Aula 11/09\n"
      ],
      "metadata": {
        "id": "zLp-TcWeNoXE"
      }
    },
    {
      "cell_type": "code",
      "source": [
        "numero = int(input(\"Digite um número inteiro: \"))\n",
        "if numero % 2 == 0:\n",
        "  print(f\"o número {numero} é par.\")\n",
        "else:\n",
        "  print(f\"o número {numero} é impar.\")\n"
      ],
      "metadata": {
        "colab": {
          "base_uri": "https://localhost:8080/"
        },
        "id": "yBYoM0AeUS9M",
        "outputId": "b64fb407-247c-414f-9bf2-4d781ddcab40"
      },
      "execution_count": 17,
      "outputs": [
        {
          "output_type": "stream",
          "name": "stdout",
          "text": [
            "Digite um número inteiro: 20\n",
            "o número 20 é par.\n"
          ]
        }
      ]
    },
    {
      "cell_type": "markdown",
      "source": [
        "Import math\n",
        "\n",
        "From math import sqrt\n",
        "\n",
        "from math import\n",
        "\n",
        "import math as mt\""
      ],
      "metadata": {
        "id": "POri351kYNVj"
      }
    },
    {
      "cell_type": "markdown",
      "source": [
        "**Exercício Raiz quadrada**"
      ],
      "metadata": {
        "id": "0SxzQiq2YiDM"
      }
    },
    {
      "cell_type": "code",
      "source": [
        "#Solicita ao usuario que insira o comprimento e a largura da camiseta\n",
        "\n",
        "\n",
        "comprimento = float(input(\"Digite o comprimento da camiseta em centímetros:\"))\n",
        "largura = float(input(\"Digite a largura da camiseta em centímetros:\"))\n",
        "\n",
        "if comprimento <= 60 and largura <= 45:\n",
        "   tamanho = \"PP\"\n",
        "elif comprimento <= 65 and largura <= 48:\n",
        "   tamanho = \"P\"\n",
        "elif comprimento <= 70 and largura <= 51:\n",
        "   tamanho = \"M\"\n",
        "elif comprimento <= 75 and largura <= 54:\n",
        "   tamanho = \"G\"\n",
        "elif comprimento <= 80 and largura <= 57:\n",
        "   tamanho = \"GG\"\n",
        "else:\n",
        "  tamanho = \"XGG\"\n",
        "\n",
        "print(f\"O tamanho da camiseta é {tamanho}.\")\n"
      ],
      "metadata": {
        "colab": {
          "base_uri": "https://localhost:8080/"
        },
        "id": "je_G4-NobhxN",
        "outputId": "aa47e991-e861-4ac8-b525-8a7015856914"
      },
      "execution_count": 23,
      "outputs": [
        {
          "output_type": "stream",
          "name": "stdout",
          "text": [
            "Digite o comprimento da camiseta em centímetros:100\n",
            "Digite a largura da camiseta em centímetros:101\n",
            "O tamanho da camiseta é XGG.\n"
          ]
        }
      ]
    },
    {
      "cell_type": "code",
      "execution_count": 20,
      "metadata": {
        "colab": {
          "base_uri": "https://localhost:8080/"
        },
        "id": "dA2LpztHNZhR",
        "outputId": "519cd859-8896-4a6d-b504-87c4bfae628b"
      },
      "outputs": [
        {
          "output_type": "stream",
          "name": "stdout",
          "text": [
            "Digite um número: 20\n",
            "A raiz quadrada de 20.0 é 4.47\n"
          ]
        }
      ],
      "source": [
        "from math import sqrt\n",
        "numero = float(input(\"Digite um número: \"))\n",
        "if numero >= 0:\n",
        " raiz_quadrada = sqrt(numero)\n",
        " print(f\"A raiz quadrada de {numero} é {raiz_quadrada:.2f}\")\n",
        "else:\n",
        " print(\"não existe raiz real para este número!\")\n",
        ""
      ]
    }
  ]
}