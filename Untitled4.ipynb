{
  "nbformat": 4,
  "nbformat_minor": 0,
  "metadata": {
    "colab": {
      "provenance": [],
      "authorship_tag": "ABX9TyPfId+OPO0wy88EaxHXou6W",
      "include_colab_link": true
    },
    "kernelspec": {
      "name": "python3",
      "display_name": "Python 3"
    },
    "language_info": {
      "name": "python"
    }
  },
  "cells": [
    {
      "cell_type": "markdown",
      "metadata": {
        "id": "view-in-github",
        "colab_type": "text"
      },
      "source": [
        "<a href=\"https://colab.research.google.com/github/Bah2303357/Aula-11-09/blob/main/Untitled4.ipynb\" target=\"_parent\"><img src=\"https://colab.research.google.com/assets/colab-badge.svg\" alt=\"Open In Colab\"/></a>"
      ]
    },
    {
      "cell_type": "markdown",
      "source": [
        "#Exercicio 1"
      ],
      "metadata": {
        "id": "BwL8tksHRMDv"
      }
    },
    {
      "cell_type": "code",
      "execution_count": null,
      "metadata": {
        "id": "88P--m4BODsk"
      },
      "outputs": [],
      "source": [
        "numero = int(input(\"Digite um número inteiro: \"))\n",
        "#verifica se o numero é multiplo de 3 ou não\n",
        "if numero%3==0:\n",
        "  print (f\"O numero {numero}  é multiplo de 3.\")\n",
        "else:\n",
        "  print (f\"O numero {numero} não é multiplo de 3.\")"
      ]
    },
    {
      "cell_type": "markdown",
      "source": [
        "#Exercicio 2"
      ],
      "metadata": {
        "id": "Ph8sm7CqXUd6"
      }
    },
    {
      "cell_type": "code",
      "source": [
        "n1 = int(input( \"Digite nota A\"))\n",
        "n2 = int(input(\"Digite nota B\"))\n",
        "media= ((n1*2) + (n2*3))/5\n",
        "if media>=5 :\n",
        "  print (f\"Sua nota final é {media}\")\n",
        "else:\n",
        "  print (\"Sua nota final é {} reprovou.\".format(media))\n",
        "\n"
      ],
      "metadata": {
        "colab": {
          "base_uri": "https://localhost:8080/"
        },
        "id": "-8m6ctatXgL8",
        "outputId": "45e07977-10ee-477d-dbfe-c80ec93e3cbe"
      },
      "execution_count": 19,
      "outputs": [
        {
          "output_type": "stream",
          "name": "stdout",
          "text": [
            "Digite nota A8\n",
            "Digite nota B10\n",
            "Sua nota final é 9.2\n"
          ]
        }
      ]
    }
  ]
}