{
  "nbformat": 4,
  "nbformat_minor": 0,
  "metadata": {
    "colab": {
      "provenance": [],
      "authorship_tag": "ABX9TyNbUkj9oluwwWKhVjmshEwV",
      "include_colab_link": true
    },
    "kernelspec": {
      "name": "python3",
      "display_name": "Python 3"
    },
    "language_info": {
      "name": "python"
    }
  },
  "cells": [
    {
      "cell_type": "markdown",
      "metadata": {
        "id": "view-in-github",
        "colab_type": "text"
      },
      "source": [
        "<a href=\"https://colab.research.google.com/github/Bah2303357/Aula-11-09/blob/main/Untitled4.ipynb\" target=\"_parent\"><img src=\"https://colab.research.google.com/assets/colab-badge.svg\" alt=\"Open In Colab\"/></a>"
      ]
    },
    {
      "cell_type": "code",
      "execution_count": null,
      "metadata": {
        "id": "THQnOq0WSnTT"
      },
      "outputs": [],
      "source": []
    },
    {
      "cell_type": "markdown",
      "source": [
        "Contar de 0 até 9 ( números )\n",
        "for i in range (10)\n",
        "# ou\n",
        "for i in range ( 0,10)\n",
        "# ou\n",
        "for i in range ( 0,10,1) inicio, fim,incremente\n",
        "\n",
        "print (i)\n",
        "\n",
        "ou\n",
        "i=\n",
        "white i <12    condição\n",
        "print(i)\n",
        "i=i+0.5\n"
      ],
      "metadata": {
        "id": "OxtIEYa5UrFn"
      }
    },
    {
      "cell_type": "code",
      "source": [
        "for i in range (10):\n",
        " print(i)"
      ],
      "metadata": {
        "colab": {
          "base_uri": "https://localhost:8080/"
        },
        "id": "Gim1w2ACXA4v",
        "outputId": "011fb474-3fdc-4959-b599-49c293bb4737"
      },
      "execution_count": 53,
      "outputs": [
        {
          "output_type": "stream",
          "name": "stdout",
          "text": [
            "0\n",
            "1\n",
            "2\n",
            "3\n",
            "4\n",
            "5\n",
            "6\n",
            "7\n",
            "8\n",
            "9\n"
          ]
        }
      ]
    },
    {
      "cell_type": "code",
      "source": [
        "for i in range(0,10,1):\n",
        " print(i)"
      ],
      "metadata": {
        "colab": {
          "base_uri": "https://localhost:8080/"
        },
        "id": "bxp7hRP6X5Rv",
        "outputId": "18165be5-b20a-49e4-c150-0758c7a7e91a"
      },
      "execution_count": 54,
      "outputs": [
        {
          "output_type": "stream",
          "name": "stdout",
          "text": [
            "0\n",
            "1\n",
            "2\n",
            "3\n",
            "4\n",
            "5\n",
            "6\n",
            "7\n",
            "8\n",
            "9\n"
          ]
        }
      ]
    },
    {
      "cell_type": "markdown",
      "source": [
        "Contar usando while"
      ],
      "metadata": {
        "id": "pBt-WeszX63G"
      }
    },
    {
      "cell_type": "code",
      "source": [
        "#Perguntar ao usuario se deseja realizar a soma de duas variavéis\n",
        "while True:\n",
        " resposta = input(\"Deseja realizar a soma de 2 variaveis? (s/n): \")\n",
        " if resposta == \"s\":\n",
        "  var1= float(input(\"digite o valor da primeira variavel: \"))\n",
        "  var2= float(input(\"digite o valor da segunda variavel: \"))\n",
        "  soma = var1 + var2\n",
        "  print(f\"a soma de {var1} e {var2} é: {soma:.2f}\\n\")\n",
        "\n",
        " elif resposta == 'n':\n",
        "     print(\"operação finalizada.\")\n",
        "     break\n",
        "\n",
        " else:\n",
        "    print(\"resposta invalida! por favor, digite 's' para sim ou 'n' para não.\\n\")"
      ],
      "metadata": {
        "colab": {
          "base_uri": "https://localhost:8080/"
        },
        "id": "d788QhWKaZP_",
        "outputId": "22dc925c-a1f7-46a2-f71d-93606cba173e"
      },
      "execution_count": 38,
      "outputs": [
        {
          "output_type": "stream",
          "name": "stdout",
          "text": [
            "Deseja realizar a soma de 2 variaveis? (s/n): s\n",
            "digite o valor da primeira variavel: 10\n",
            "digite o valor da segunda variavel: 45\n",
            "a soma de 10.0 e 45.0 é: 55.00\n",
            "\n",
            "Deseja realizar a soma de 2 variaveis? (s/n): n\n",
            "operação finalizada.\n"
          ]
        }
      ]
    },
    {
      "source": [
        "white True: #Added colon\n",
        "# perguntar ao usuario se deseja realizar a soma de duas variaveis\n",
        "\n",
        "  resposta = input(\"Deseja realizar a soma de 2 variaveis? (s/n): \").strip().upper()\n",
        "\n",
        "# se a resposta for 's', realiza a soma\n",
        "  if resposta == \"S\": #Changed to \"S\"\n",
        "\n",
        "  # solicitar ao usuario que insira os valores das variaveis\n",
        "    var1 = float(input(\"digite o valor da primeira variavel: \"))\n",
        "    var2 = float(input(\"digite o valor da segunda variavel: \"))\n",
        "\n",
        "  #realizar a soma das variaveis\n",
        "    soma = var1 + var2\n",
        "\n",
        "  # exibir o resultado da soma\n",
        "    print(f\"a soma de {var1} e {var2} é: {soma:.2f}\\n\")\n",
        "\n",
        "  #se a resposta for 'n', termina o loop\n",
        "\n",
        "  elif resposta == 'N': #Changed to \"N\"\n",
        "     print(\"operação finalizada.\")\n",
        "     break\n",
        "\n",
        "   # caso o usuario insira uma resposta invalida, solicita novamente\n",
        "   else: # Corrected indentation\n",
        "    print(\"resposta invalida! por favor, digite 's' para sim ou 'n' para não.\\n\")"
      ],
      "cell_type": "code",
      "metadata": {
        "id": "f124Bqjxfhrl"
      },
      "execution_count": null,
      "outputs": []
    },
    {
      "cell_type": "code",
      "source": [
        "while true:\n",
        " resposta = input(\"Deseja realizar uma soma? (sim/não): \")\n",
        " if resposta == \"sim\":\n",
        "   num1 = float(input(\"digite o primeiro numero: \"))\n",
        "   num2 = float(input(\"digite o segundo numero: \"))\n",
        "   soma = num1 + num2\n",
        "   print(\"A soma é:\", soma)\n",
        " else:\n",
        "   print(\"Encerrando o programa.\")\n",
        "   break"
      ],
      "metadata": {
        "colab": {
          "base_uri": "https://localhost:8080/",
          "height": 211
        },
        "id": "QalzcmKkddR-",
        "outputId": "cbf44e63-56f9-4898-cb85-9a7b2a8ef2ee"
      },
      "execution_count": 47,
      "outputs": [
        {
          "output_type": "error",
          "ename": "NameError",
          "evalue": "name 'true' is not defined",
          "traceback": [
            "\u001b[0;31m---------------------------------------------------------------------------\u001b[0m",
            "\u001b[0;31mNameError\u001b[0m                                 Traceback (most recent call last)",
            "\u001b[0;32m<ipython-input-47-bad401e6cc5e>\u001b[0m in \u001b[0;36m<cell line: 1>\u001b[0;34m()\u001b[0m\n\u001b[0;32m----> 1\u001b[0;31m \u001b[0;32mwhile\u001b[0m \u001b[0mtrue\u001b[0m\u001b[0;34m:\u001b[0m\u001b[0;34m\u001b[0m\u001b[0;34m\u001b[0m\u001b[0m\n\u001b[0m\u001b[1;32m      2\u001b[0m  \u001b[0mresposta\u001b[0m \u001b[0;34m=\u001b[0m \u001b[0minput\u001b[0m\u001b[0;34m(\u001b[0m\u001b[0;34m\"Deseja realizar uma soma? (sim/não): \"\u001b[0m\u001b[0;34m)\u001b[0m\u001b[0;34m\u001b[0m\u001b[0;34m\u001b[0m\u001b[0m\n\u001b[1;32m      3\u001b[0m  \u001b[0;32mif\u001b[0m \u001b[0mresposta\u001b[0m \u001b[0;34m==\u001b[0m \u001b[0;34m\"sim\"\u001b[0m\u001b[0;34m:\u001b[0m\u001b[0;34m\u001b[0m\u001b[0;34m\u001b[0m\u001b[0m\n\u001b[1;32m      4\u001b[0m    \u001b[0mnum1\u001b[0m \u001b[0;34m=\u001b[0m \u001b[0mfloat\u001b[0m\u001b[0;34m(\u001b[0m\u001b[0minput\u001b[0m\u001b[0;34m(\u001b[0m\u001b[0;34m\"digite o primeiro numero: \"\u001b[0m\u001b[0;34m)\u001b[0m\u001b[0;34m)\u001b[0m\u001b[0;34m\u001b[0m\u001b[0;34m\u001b[0m\u001b[0m\n\u001b[1;32m      5\u001b[0m    \u001b[0mnum2\u001b[0m \u001b[0;34m=\u001b[0m \u001b[0mfloat\u001b[0m\u001b[0;34m(\u001b[0m\u001b[0minput\u001b[0m\u001b[0;34m(\u001b[0m\u001b[0;34m\"digite o segundo numero: \"\u001b[0m\u001b[0;34m)\u001b[0m\u001b[0;34m)\u001b[0m\u001b[0;34m\u001b[0m\u001b[0;34m\u001b[0m\u001b[0m\n",
            "\u001b[0;31mNameError\u001b[0m: name 'true' is not defined"
          ]
        }
      ]
    }
  ]
}