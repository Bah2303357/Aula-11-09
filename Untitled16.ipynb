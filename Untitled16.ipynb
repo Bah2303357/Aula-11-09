{
  "nbformat": 4,
  "nbformat_minor": 0,
  "metadata": {
    "colab": {
      "provenance": [],
      "authorship_tag": "ABX9TyMpsNLrHmUDm6MWCBW4t3+O",
      "include_colab_link": true
    },
    "kernelspec": {
      "name": "python3",
      "display_name": "Python 3"
    },
    "language_info": {
      "name": "python"
    }
  },
  "cells": [
    {
      "cell_type": "markdown",
      "metadata": {
        "id": "view-in-github",
        "colab_type": "text"
      },
      "source": [
        "<a href=\"https://colab.research.google.com/github/Bah2303357/Aula-11-09/blob/main/Untitled16.ipynb\" target=\"_parent\"><img src=\"https://colab.research.google.com/assets/colab-badge.svg\" alt=\"Open In Colab\"/></a>"
      ]
    },
    {
      "cell_type": "code",
      "execution_count": 10,
      "metadata": {
        "colab": {
          "base_uri": "https://localhost:8080/",
          "height": 332
        },
        "id": "y_XwDXI6wgvD",
        "outputId": "d7de3ea9-6061-4d5d-9b9b-fb826bb7e21d"
      },
      "outputs": [
        {
          "output_type": "error",
          "ename": "ValueError",
          "evalue": "parameters are of unsupported type",
          "traceback": [
            "\u001b[0;31m---------------------------------------------------------------------------\u001b[0m",
            "\u001b[0;31mValueError\u001b[0m                                Traceback (most recent call last)",
            "\u001b[0;32m<ipython-input-10-afe777906cbd>\u001b[0m in \u001b[0;36m<cell line: 63>\u001b[0;34m()\u001b[0m\n\u001b[1;32m     61\u001b[0m \u001b[0msistema\u001b[0m\u001b[0;34m.\u001b[0m\u001b[0madicionar_produto\u001b[0m\u001b[0;34m(\u001b[0m\u001b[0;34m\"tenis\"\u001b[0m\u001b[0;34m,\u001b[0m \u001b[0;36m20\u001b[0m\u001b[0;34m)\u001b[0m\u001b[0;34m\u001b[0m\u001b[0;34m\u001b[0m\u001b[0m\n\u001b[1;32m     62\u001b[0m \u001b[0;34m\u001b[0m\u001b[0m\n\u001b[0;32m---> 63\u001b[0;31m \u001b[0mestoque_camiseta\u001b[0m \u001b[0;34m=\u001b[0m \u001b[0msistema\u001b[0m\u001b[0;34m.\u001b[0m\u001b[0mconsultar_estoque\u001b[0m\u001b[0;34m(\u001b[0m\u001b[0;34m\"camiseta\"\u001b[0m\u001b[0;34m)\u001b[0m\u001b[0;34m\u001b[0m\u001b[0;34m\u001b[0m\u001b[0m\n\u001b[0m\u001b[1;32m     64\u001b[0m \u001b[0mprint\u001b[0m\u001b[0;34m(\u001b[0m\u001b[0;34mf\"Quantidade de camisetas em estoque: {estoque_camiseta}\"\u001b[0m\u001b[0;34m)\u001b[0m\u001b[0;34m\u001b[0m\u001b[0;34m\u001b[0m\u001b[0m\n\u001b[1;32m     65\u001b[0m \u001b[0;34m\u001b[0m\u001b[0m\n",
            "\u001b[0;32m<ipython-input-10-afe777906cbd>\u001b[0m in \u001b[0;36mconsultar_estoque\u001b[0;34m(self, produto)\u001b[0m\n\u001b[1;32m     41\u001b[0m   \u001b[0;32mdef\u001b[0m \u001b[0mconsultar_estoque\u001b[0m\u001b[0;34m(\u001b[0m\u001b[0mself\u001b[0m\u001b[0;34m,\u001b[0m \u001b[0mproduto\u001b[0m\u001b[0;34m)\u001b[0m\u001b[0;34m:\u001b[0m\u001b[0;34m\u001b[0m\u001b[0;34m\u001b[0m\u001b[0m\n\u001b[1;32m     42\u001b[0m     \u001b[0mcursor\u001b[0m \u001b[0;34m=\u001b[0m \u001b[0mself\u001b[0m\u001b[0;34m.\u001b[0m\u001b[0mconn\u001b[0m\u001b[0;34m.\u001b[0m\u001b[0mcursor\u001b[0m\u001b[0;34m(\u001b[0m\u001b[0;34m)\u001b[0m\u001b[0;34m\u001b[0m\u001b[0;34m\u001b[0m\u001b[0m\n\u001b[0;32m---> 43\u001b[0;31m     cursor.execute(\n\u001b[0m\u001b[1;32m     44\u001b[0m         \"SELECT quantidade FROM ESTOQUE WHERE produto=?\", {produto,})\n\u001b[1;32m     45\u001b[0m     \u001b[0mresultado\u001b[0m \u001b[0;34m=\u001b[0m \u001b[0mcursor\u001b[0m\u001b[0;34m.\u001b[0m\u001b[0mfetchone\u001b[0m\u001b[0;34m(\u001b[0m\u001b[0;34m)\u001b[0m\u001b[0;34m\u001b[0m\u001b[0;34m\u001b[0m\u001b[0m\n",
            "\u001b[0;31mValueError\u001b[0m: parameters are of unsupported type"
          ]
        }
      ],
      "source": [
        "import sqlite3\n",
        "\n",
        "\n",
        "class Gestao:\n",
        "  def __init__(self, banco):\n",
        "    self.conn = sqlite3.connect(banco)\n",
        "    self.criar_tabela_estoque()\n",
        "\n",
        "  def criar_tabela_estoque(self):\n",
        "    cursor = self.conn.cursor()\n",
        "    cursor.execute('''\n",
        "      CREATE TABLE IF NOT EXISTS estoque (\n",
        "        id INTEGER PRIMARY KEY,\n",
        "        produto TEXT,\n",
        "        quantidade INTEGER\n",
        "      )\n",
        "    ''')\n",
        "    self.conn.commit()\n",
        "\n",
        "  def adicionar_produto(self, produto, quantidade):\n",
        "    cursor = self.conn.cursor()\n",
        "    cursor.execute(\n",
        "        'INSERT INTO estoque (produto, quantidade) VALUES (?, ?)', (produto, quantidade))\n",
        "    self.conn.commit()\n",
        "\n",
        "  def remover_produto(self, produto, quantidade):\n",
        "    cursor = self.conn.cursor()\n",
        "    cursor.execute(\n",
        "        'SELECT quantidade FROM estoque WHERE produto = ?', (quantidade, produto))\n",
        "    resultado = cursor.fetchone()\n",
        "    if resultado:\n",
        "      quantidade_em_estoque = resultado[0]\n",
        "      if estoque_atual >= quantidade:\n",
        "        cursor.execute('UPDATE estoque SET quantidade =? WHERE produto=?)',\n",
        "                       (estoque_atual - quantidade, produto))\n",
        "        self.conn.commit()\n",
        "      else:\n",
        "        print(f\"Quantidade insuficiente de {produto} em estoque.\")\n",
        "    else:print(f\"{produto} não encontrado em estoque.\")\n",
        "\n",
        "  def consultar_estoque(self, produto):\n",
        "    cursor = self.conn.cursor()\n",
        "    cursor.execute(\n",
        "        \"SELECT quantidade FROM ESTOQUE WHERE produto=?\", {produto,})\n",
        "    resultado = cursor.fetchone()\n",
        "    if resultado:\n",
        "      return resultado[0]\n",
        "    else:\n",
        "      return 0\n",
        "\n",
        "  def listar_produtos(self):\n",
        "    cursor = self.conn.cursor()\n",
        "    cursor.execute('SELECT produto FROM estoque')\n",
        "    produtos = cursor.fetchall()\n",
        "    return [produto[0] for produto in produtos]\n",
        "\n",
        "sistema = Gestao('estoque.db')\n",
        "\n",
        "sistema.adicionar_produto(\"camiseta\", 50)\n",
        "sistema.adicionar_produto(\"bermuda\", 30)\n",
        "sistema.adicionar_produto(\"tenis\", 20)\n",
        "\n",
        "estoque_camiseta = sistema.consultar_estoque(\"camiseta\")\n",
        "print(f\"Quantidade de camisetas em estoque: {estoque_camiseta}\")\n",
        "\n",
        "sistema.remover_produto(\"camiseta\", 10)\n",
        "\n",
        "produtos_em_estoque = sistema.listar_produtos()\n",
        "print(\"Produtos em estoque:\")\n",
        "for produto in produtos_em_estoque:\n",
        "  print(produto)\n"
      ]
    }
  ]
}