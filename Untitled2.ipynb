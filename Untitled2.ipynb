{
  "nbformat": 4,
  "nbformat_minor": 0,
  "metadata": {
    "colab": {
      "provenance": [],
      "authorship_tag": "ABX9TyOYN7QKKWh0FmCdcQpN2vEK",
      "include_colab_link": true
    },
    "kernelspec": {
      "name": "python3",
      "display_name": "Python 3"
    },
    "language_info": {
      "name": "python"
    }
  },
  "cells": [
    {
      "cell_type": "markdown",
      "metadata": {
        "id": "view-in-github",
        "colab_type": "text"
      },
      "source": [
        "<a href=\"https://colab.research.google.com/github/Bah2303357/Aula-11-09/blob/main/Untitled2.ipynb\" target=\"_parent\"><img src=\"https://colab.research.google.com/assets/colab-badge.svg\" alt=\"Open In Colab\"/></a>"
      ]
    },
    {
      "cell_type": "code",
      "execution_count": null,
      "metadata": {
        "id": "zRAkgNpuR3Fq"
      },
      "outputs": [],
      "source": []
    },
    {
      "cell_type": "markdown",
      "source": [
        "**Aula dia 18/09/2024**\n",
        "\n"
      ],
      "metadata": {
        "id": "9F84Y1bRSAlW"
      }
    },
    {
      "cell_type": "markdown",
      "source": [
        "**Exercícios Extras**\n",
        "\n",
        "**Exercio 01**"
      ],
      "metadata": {
        "id": "iM7FdjZlWAbu"
      }
    },
    {
      "cell_type": "code",
      "source": [
        "#Solicite ao usuário um valor inteiro e em seguida informar se o valor é multiplo de 3.\n",
        "\n",
        "x = int(input(\"digite valor inteiro: \"))\n",
        "r = x%3\n",
        "if r==0:\n",
        " print(\"múltiplo\")\n",
        "else:\n",
        " print(\"não múltiplo\")"
      ],
      "metadata": {
        "colab": {
          "base_uri": "https://localhost:8080/"
        },
        "id": "Fs2P273mSdst",
        "outputId": "4fd95282-6384-4137-9a1b-c9ccd3ff5c0c"
      },
      "execution_count": 16,
      "outputs": [
        {
          "output_type": "stream",
          "name": "stdout",
          "text": [
            "digite valor inteiro: 3\n",
            "múltiplo\n"
          ]
        }
      ]
    },
    {
      "cell_type": "markdown",
      "source": [
        "**Exercício 02**"
      ],
      "metadata": {
        "id": "RHBBVBdKWMiN"
      }
    },
    {
      "cell_type": "markdown",
      "source": [
        "Dadas as notas a e b de um aluno, com pesos respectivamente 2 e 3; pede-se elaborar um programa em Python para calcular e exibir a média ponderada do aluno, verificar e informar, junto ao valor da sua média, se foi aprovado ou não (OBS: Considere aprovado se obtiver média igual ou superior a 5)"
      ],
      "metadata": {
        "id": "zeWw8kVseTeW"
      }
    },
    {
      "cell_type": "code",
      "source": [
        "n1 = int(input(\"N1: \"))\n",
        "n2 = int(input(\"N2: \"))\n",
        "media= (n1*2 + n2*3)/5\n",
        "if media>=5 :\n",
        "  print (\"Aprovado\")\n",
        "else:\n",
        "  print(\"reprovado\")"
      ],
      "metadata": {
        "colab": {
          "base_uri": "https://localhost:8080/"
        },
        "id": "LdzrZcX0WP6N",
        "outputId": "ecefd89f-f9a0-4be9-a61f-670093765d02"
      },
      "execution_count": 35,
      "outputs": [
        {
          "output_type": "stream",
          "name": "stdout",
          "text": [
            "N1: 2\n",
            "N2: 3\n",
            "reprovado\n"
          ]
        }
      ]
    },
    {
      "cell_type": "markdown",
      "source": [
        "'"
      ],
      "metadata": {
        "id": "ZcoHjGM5YDwc"
      }
    },
    {
      "cell_type": "markdown",
      "source": [
        "**Exercício 03**"
      ],
      "metadata": {
        "id": "SbPlynTCevrO"
      }
    },
    {
      "cell_type": "markdown",
      "source": [
        "Dado o algoritmo a seguir, elabore o código python do programa em questão:\n",
        "Início\n",
        "\n",
        "Leia os três valores: a, b e c.\n",
        "\n",
        "Compare os valores:\n",
        "\n",
        "Se a é menor ou igual a b e a é menor ou igual a c, então\n",
        "\n",
        "a é o menor valor.\n",
        "\n",
        "Caso contrário, se b é menor ou igual a a e b é menor ou igual a c, entãob é o menor valor.\n",
        "Caso contrário,\n",
        "c é o menor valor.\n",
        "Exiba o menor valor."
      ],
      "metadata": {
        "id": "zJwvR1Xle359"
      }
    },
    {
      "cell_type": "code",
      "source": [
        "a = float(input(\"Digite valor a: \"))\n",
        "b = float(input(\"Digite valor b: \"))\n",
        "a = float(input(\"Digite valor c: \"))\n",
        "if a<=b"
      ],
      "metadata": {
        "id": "dTYKtA9QgLyQ"
      },
      "execution_count": null,
      "outputs": []
    }
  ]
}